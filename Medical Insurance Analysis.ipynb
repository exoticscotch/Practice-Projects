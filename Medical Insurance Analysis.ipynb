{
 "cells": [
  {
   "cell_type": "code",
   "execution_count": 1,
   "id": "d371b263",
   "metadata": {},
   "outputs": [],
   "source": [
    "import pandas as pd\n",
    "import numpy as np\n",
    "import seaborn as sns\n",
    "import matplotlib.pyplot as plt\n",
    "import warnings\n",
    "warnings.filterwarnings('ignore')"
   ]
  },
  {
   "cell_type": "code",
   "execution_count": 2,
   "id": "b6dd98c8",
   "metadata": {},
   "outputs": [
    {
     "data": {
      "text/html": [
       "<div>\n",
       "<style scoped>\n",
       "    .dataframe tbody tr th:only-of-type {\n",
       "        vertical-align: middle;\n",
       "    }\n",
       "\n",
       "    .dataframe tbody tr th {\n",
       "        vertical-align: top;\n",
       "    }\n",
       "\n",
       "    .dataframe thead th {\n",
       "        text-align: right;\n",
       "    }\n",
       "</style>\n",
       "<table border=\"1\" class=\"dataframe\">\n",
       "  <thead>\n",
       "    <tr style=\"text-align: right;\">\n",
       "      <th></th>\n",
       "      <th>age</th>\n",
       "      <th>sex</th>\n",
       "      <th>bmi</th>\n",
       "      <th>children</th>\n",
       "      <th>smoker</th>\n",
       "      <th>region</th>\n",
       "      <th>charges</th>\n",
       "    </tr>\n",
       "  </thead>\n",
       "  <tbody>\n",
       "    <tr>\n",
       "      <th>0</th>\n",
       "      <td>19</td>\n",
       "      <td>female</td>\n",
       "      <td>27.900</td>\n",
       "      <td>0</td>\n",
       "      <td>yes</td>\n",
       "      <td>southwest</td>\n",
       "      <td>16884.92400</td>\n",
       "    </tr>\n",
       "    <tr>\n",
       "      <th>1</th>\n",
       "      <td>18</td>\n",
       "      <td>male</td>\n",
       "      <td>33.770</td>\n",
       "      <td>1</td>\n",
       "      <td>no</td>\n",
       "      <td>southeast</td>\n",
       "      <td>1725.55230</td>\n",
       "    </tr>\n",
       "    <tr>\n",
       "      <th>2</th>\n",
       "      <td>28</td>\n",
       "      <td>male</td>\n",
       "      <td>33.000</td>\n",
       "      <td>3</td>\n",
       "      <td>no</td>\n",
       "      <td>southeast</td>\n",
       "      <td>4449.46200</td>\n",
       "    </tr>\n",
       "    <tr>\n",
       "      <th>3</th>\n",
       "      <td>33</td>\n",
       "      <td>male</td>\n",
       "      <td>22.705</td>\n",
       "      <td>0</td>\n",
       "      <td>no</td>\n",
       "      <td>northwest</td>\n",
       "      <td>21984.47061</td>\n",
       "    </tr>\n",
       "    <tr>\n",
       "      <th>4</th>\n",
       "      <td>32</td>\n",
       "      <td>male</td>\n",
       "      <td>28.880</td>\n",
       "      <td>0</td>\n",
       "      <td>no</td>\n",
       "      <td>northwest</td>\n",
       "      <td>3866.85520</td>\n",
       "    </tr>\n",
       "  </tbody>\n",
       "</table>\n",
       "</div>"
      ],
      "text/plain": [
       "   age     sex     bmi  children smoker     region      charges\n",
       "0   19  female  27.900         0    yes  southwest  16884.92400\n",
       "1   18    male  33.770         1     no  southeast   1725.55230\n",
       "2   28    male  33.000         3     no  southeast   4449.46200\n",
       "3   33    male  22.705         0     no  northwest  21984.47061\n",
       "4   32    male  28.880         0     no  northwest   3866.85520"
      ]
     },
     "execution_count": 2,
     "metadata": {},
     "output_type": "execute_result"
    }
   ],
   "source": [
    "df=pd.read_csv('https://raw.githubusercontent.com/dsrscientist/dataset4/main/medical_cost_insurance.csv')\n",
    "df.head()"
   ]
  },
  {
   "cell_type": "code",
   "execution_count": 3,
   "id": "bc20d30b",
   "metadata": {},
   "outputs": [
    {
     "data": {
      "text/plain": [
       "(1338, 7)"
      ]
     },
     "execution_count": 3,
     "metadata": {},
     "output_type": "execute_result"
    }
   ],
   "source": [
    "df.shape"
   ]
  },
  {
   "cell_type": "code",
   "execution_count": 4,
   "id": "ba4b0504",
   "metadata": {},
   "outputs": [
    {
     "data": {
      "text/plain": [
       "male      676\n",
       "female    662\n",
       "Name: sex, dtype: int64"
      ]
     },
     "execution_count": 4,
     "metadata": {},
     "output_type": "execute_result"
    }
   ],
   "source": [
    "df['sex'].value_counts()"
   ]
  },
  {
   "cell_type": "code",
   "execution_count": 5,
   "id": "f3e99c74",
   "metadata": {},
   "outputs": [
    {
     "data": {
      "text/plain": [
       "0    574\n",
       "1    324\n",
       "2    240\n",
       "3    157\n",
       "4     25\n",
       "5     18\n",
       "Name: children, dtype: int64"
      ]
     },
     "execution_count": 5,
     "metadata": {},
     "output_type": "execute_result"
    }
   ],
   "source": [
    "df['children'].value_counts()"
   ]
  },
  {
   "cell_type": "code",
   "execution_count": 6,
   "id": "040d36c3",
   "metadata": {},
   "outputs": [
    {
     "data": {
      "text/plain": [
       "no     1064\n",
       "yes     274\n",
       "Name: smoker, dtype: int64"
      ]
     },
     "execution_count": 6,
     "metadata": {},
     "output_type": "execute_result"
    }
   ],
   "source": [
    "df['smoker'].value_counts()"
   ]
  },
  {
   "cell_type": "code",
   "execution_count": 7,
   "id": "7345c958",
   "metadata": {},
   "outputs": [
    {
     "data": {
      "text/plain": [
       "southeast    364\n",
       "southwest    325\n",
       "northwest    325\n",
       "northeast    324\n",
       "Name: region, dtype: int64"
      ]
     },
     "execution_count": 7,
     "metadata": {},
     "output_type": "execute_result"
    }
   ],
   "source": [
    "df['region'].value_counts()"
   ]
  },
  {
   "cell_type": "code",
   "execution_count": 8,
   "id": "fac87958",
   "metadata": {},
   "outputs": [
    {
     "data": {
      "text/plain": [
       "18    69\n",
       "19    68\n",
       "50    29\n",
       "51    29\n",
       "47    29\n",
       "46    29\n",
       "45    29\n",
       "20    29\n",
       "48    29\n",
       "52    29\n",
       "22    28\n",
       "49    28\n",
       "54    28\n",
       "53    28\n",
       "21    28\n",
       "26    28\n",
       "24    28\n",
       "25    28\n",
       "28    28\n",
       "27    28\n",
       "23    28\n",
       "43    27\n",
       "29    27\n",
       "30    27\n",
       "41    27\n",
       "42    27\n",
       "44    27\n",
       "31    27\n",
       "40    27\n",
       "32    26\n",
       "33    26\n",
       "56    26\n",
       "34    26\n",
       "55    26\n",
       "57    26\n",
       "37    25\n",
       "59    25\n",
       "58    25\n",
       "36    25\n",
       "38    25\n",
       "35    25\n",
       "39    25\n",
       "61    23\n",
       "60    23\n",
       "63    23\n",
       "62    23\n",
       "64    22\n",
       "Name: age, dtype: int64"
      ]
     },
     "execution_count": 8,
     "metadata": {},
     "output_type": "execute_result"
    }
   ],
   "source": [
    "df['age'].value_counts()"
   ]
  },
  {
   "cell_type": "code",
   "execution_count": 9,
   "id": "6b0b0071",
   "metadata": {},
   "outputs": [
    {
     "data": {
      "text/html": [
       "<div>\n",
       "<style scoped>\n",
       "    .dataframe tbody tr th:only-of-type {\n",
       "        vertical-align: middle;\n",
       "    }\n",
       "\n",
       "    .dataframe tbody tr th {\n",
       "        vertical-align: top;\n",
       "    }\n",
       "\n",
       "    .dataframe thead th {\n",
       "        text-align: right;\n",
       "    }\n",
       "</style>\n",
       "<table border=\"1\" class=\"dataframe\">\n",
       "  <thead>\n",
       "    <tr style=\"text-align: right;\">\n",
       "      <th></th>\n",
       "      <th>age</th>\n",
       "      <th>bmi</th>\n",
       "      <th>children</th>\n",
       "      <th>charges</th>\n",
       "    </tr>\n",
       "  </thead>\n",
       "  <tbody>\n",
       "    <tr>\n",
       "      <th>count</th>\n",
       "      <td>1338.000000</td>\n",
       "      <td>1338.000000</td>\n",
       "      <td>1338.000000</td>\n",
       "      <td>1338.000000</td>\n",
       "    </tr>\n",
       "    <tr>\n",
       "      <th>mean</th>\n",
       "      <td>39.207025</td>\n",
       "      <td>30.663397</td>\n",
       "      <td>1.094918</td>\n",
       "      <td>13270.422265</td>\n",
       "    </tr>\n",
       "    <tr>\n",
       "      <th>std</th>\n",
       "      <td>14.049960</td>\n",
       "      <td>6.098187</td>\n",
       "      <td>1.205493</td>\n",
       "      <td>12110.011237</td>\n",
       "    </tr>\n",
       "    <tr>\n",
       "      <th>min</th>\n",
       "      <td>18.000000</td>\n",
       "      <td>15.960000</td>\n",
       "      <td>0.000000</td>\n",
       "      <td>1121.873900</td>\n",
       "    </tr>\n",
       "    <tr>\n",
       "      <th>25%</th>\n",
       "      <td>27.000000</td>\n",
       "      <td>26.296250</td>\n",
       "      <td>0.000000</td>\n",
       "      <td>4740.287150</td>\n",
       "    </tr>\n",
       "    <tr>\n",
       "      <th>50%</th>\n",
       "      <td>39.000000</td>\n",
       "      <td>30.400000</td>\n",
       "      <td>1.000000</td>\n",
       "      <td>9382.033000</td>\n",
       "    </tr>\n",
       "    <tr>\n",
       "      <th>75%</th>\n",
       "      <td>51.000000</td>\n",
       "      <td>34.693750</td>\n",
       "      <td>2.000000</td>\n",
       "      <td>16639.912515</td>\n",
       "    </tr>\n",
       "    <tr>\n",
       "      <th>max</th>\n",
       "      <td>64.000000</td>\n",
       "      <td>53.130000</td>\n",
       "      <td>5.000000</td>\n",
       "      <td>63770.428010</td>\n",
       "    </tr>\n",
       "  </tbody>\n",
       "</table>\n",
       "</div>"
      ],
      "text/plain": [
       "               age          bmi     children       charges\n",
       "count  1338.000000  1338.000000  1338.000000   1338.000000\n",
       "mean     39.207025    30.663397     1.094918  13270.422265\n",
       "std      14.049960     6.098187     1.205493  12110.011237\n",
       "min      18.000000    15.960000     0.000000   1121.873900\n",
       "25%      27.000000    26.296250     0.000000   4740.287150\n",
       "50%      39.000000    30.400000     1.000000   9382.033000\n",
       "75%      51.000000    34.693750     2.000000  16639.912515\n",
       "max      64.000000    53.130000     5.000000  63770.428010"
      ]
     },
     "execution_count": 9,
     "metadata": {},
     "output_type": "execute_result"
    }
   ],
   "source": [
    "df.describe()"
   ]
  },
  {
   "cell_type": "markdown",
   "id": "f2d213b0",
   "metadata": {},
   "source": [
    "# Observation\n",
    "From here we can observe that there r no nulls present\n",
    "\n",
    "Mean is Approximately equal to Median so we can say that there is no skewness present\n",
    "\n",
    "It seems that there r little outliers present in age ,bmi,children columns"
   ]
  },
  {
   "cell_type": "markdown",
   "id": "6cc7e608",
   "metadata": {},
   "source": [
    "# Observation\n",
    "1.There are 1338 rows and 7 columns in the dataset.\n",
    "2.Out of 7 columns 6 are features i.e age,sex,bmi,region,children,smoker are features and chareges column is our label.\n",
    "3.Label and bmi have continous data whereas age,children have integer data whereas sex,smoker,region have object data.\n",
    "So this is our regression problem."
   ]
  },
  {
   "cell_type": "code",
   "execution_count": 10,
   "id": "3e87a242",
   "metadata": {},
   "outputs": [
    {
     "name": "stdout",
     "output_type": "stream",
     "text": [
      "<class 'pandas.core.frame.DataFrame'>\n",
      "RangeIndex: 1338 entries, 0 to 1337\n",
      "Data columns (total 7 columns):\n",
      " #   Column    Non-Null Count  Dtype  \n",
      "---  ------    --------------  -----  \n",
      " 0   age       1338 non-null   int64  \n",
      " 1   sex       1338 non-null   object \n",
      " 2   bmi       1338 non-null   float64\n",
      " 3   children  1338 non-null   int64  \n",
      " 4   smoker    1338 non-null   object \n",
      " 5   region    1338 non-null   object \n",
      " 6   charges   1338 non-null   float64\n",
      "dtypes: float64(2), int64(2), object(3)\n",
      "memory usage: 73.3+ KB\n"
     ]
    }
   ],
   "source": [
    " df.info()"
   ]
  },
  {
   "cell_type": "markdown",
   "id": "b8386ca1",
   "metadata": {},
   "source": [
    "# Observation\n",
    "There r no null values present in our dataset"
   ]
  },
  {
   "cell_type": "code",
   "execution_count": 11,
   "id": "a024ac83",
   "metadata": {},
   "outputs": [
    {
     "data": {
      "text/plain": [
       "1"
      ]
     },
     "execution_count": 11,
     "metadata": {},
     "output_type": "execute_result"
    }
   ],
   "source": [
    "df.duplicated().sum()"
   ]
  },
  {
   "cell_type": "markdown",
   "id": "eed811fa",
   "metadata": {},
   "source": [
    "# Observation\n",
    "as there is only 1 duplicate it will not make any impact so lets keep it and move ahead"
   ]
  },
  {
   "cell_type": "code",
   "execution_count": 12,
   "id": "97b5b9e5",
   "metadata": {},
   "outputs": [
    {
     "data": {
      "image/png": "[encoded data removed]",
      "text/plain": [
       "<Figure size 640x480 with 1 Axes>"
      ]
     },
     "metadata": {},
     "output_type": "display_data"
    }
   ],
   "source": [
    "#Lets visualize through graphical analysis\n",
    "sns.countplot(x='sex',data=df)\n",
    "plt.show()"
   ]
  },
  {
   "cell_type": "code",
   "execution_count": 13,
   "id": "bffa4a97",
   "metadata": {},
   "outputs": [
    {
     "data": {
      "image/png": "[encoded data removed]",
      "text/plain": [
       "<Figure size 640x480 with 1 Axes>"
      ]
     },
     "metadata": {},
     "output_type": "display_data"
    }
   ],
   "source": [
    "sns.countplot(x='smoker',data=df)\n",
    "plt.show()"
   ]
  },
  {
   "cell_type": "code",
   "execution_count": 14,
   "id": "d8b2fa5c",
   "metadata": {},
   "outputs": [
    {
     "data": {
      "image/png": "[encoded data removed]",
      "text/plain": [
       "<Figure size 640x480 with 1 Axes>"
      ]
     },
     "metadata": {},
     "output_type": "display_data"
    }
   ],
   "source": [
    "sns.countplot(x='region',data=df)\n",
    "plt.show()"
   ]
  },
  {
   "cell_type": "markdown",
   "id": "c4c5cb31",
   "metadata": {},
   "source": [
    "# Observation\n",
    "We can observe that in sex column distribution is even\n",
    "\n",
    "We can see that distribution in smoker column is not even because count smokers is very small in comparison to non smokers\n",
    "\n",
    "We can see that in region column distribution is also even"
   ]
  },
  {
   "cell_type": "code",
   "execution_count": 15,
   "id": "7e29d899",
   "metadata": {},
   "outputs": [
    {
     "data": {
      "image/png": "[encoded data removed]",
      "text/plain": [
       "<Figure size 640x480 with 1 Axes>"
      ]
     },
     "metadata": {},
     "output_type": "display_data"
    }
   ],
   "source": [
    "#Now lets check distribution plot\n",
    "sns.distplot(df['age'])\n",
    "plt.show()"
   ]
  },
  {
   "cell_type": "code",
   "execution_count": 16,
   "id": "e21a5807",
   "metadata": {},
   "outputs": [
    {
     "data": {
      "image/png": "[encoded data removed]",
      "text/plain": [
       "<Figure size 640x480 with 1 Axes>"
      ]
     },
     "metadata": {},
     "output_type": "display_data"
    }
   ],
   "source": [
    "sns.distplot(df['children'])\n",
    "plt.show()"
   ]
  },
  {
   "cell_type": "code",
   "execution_count": 17,
   "id": "f7dbd683",
   "metadata": {},
   "outputs": [
    {
     "data": {
      "image/png": "[encoded data removed]",
      "text/plain": [
       "<Figure size 640x480 with 1 Axes>"
      ]
     },
     "metadata": {},
     "output_type": "display_data"
    }
   ],
   "source": [
    "sns.distplot(df['bmi'])\n",
    "plt.show()"
   ]
  },
  {
   "cell_type": "markdown",
   "id": "6a00eae7",
   "metadata": {},
   "source": [
    "# Observation\n",
    "We can see that data is normally distributed for age and bmi column where bmi have little right skewness(we will check that)\n",
    "\n",
    "Children column is approx normally distributed( we will see to it)"
   ]
  },
  {
   "cell_type": "code",
   "execution_count": 18,
   "id": "2be5be1f",
   "metadata": {},
   "outputs": [
    {
     "data": {
      "image/png": "[encoded data removed]",
      "text/plain": [
       "<Figure size 640x480 with 1 Axes>"
      ]
     },
     "metadata": {},
     "output_type": "display_data"
    }
   ],
   "source": [
    "#lets check box plot for outliers\n",
    "sns.boxplot(df['age'])\n",
    "plt.show()"
   ]
  },
  {
   "cell_type": "code",
   "execution_count": 19,
   "id": "4b6c524d",
   "metadata": {},
   "outputs": [
    {
     "data": {
      "image/png": "[encoded data removed]",
      "text/plain": [
       "<Figure size 640x480 with 1 Axes>"
      ]
     },
     "metadata": {},
     "output_type": "display_data"
    }
   ],
   "source": [
    "#lets check box plot for outliers\n",
    "sns.boxplot(df['children'])\n",
    "plt.show()"
   ]
  },
  {
   "cell_type": "code",
   "execution_count": 20,
   "id": "654af8d8",
   "metadata": {},
   "outputs": [
    {
     "data": {
      "image/png": "[encoded data removed]",
      "text/plain": [
       "<Figure size 640x480 with 1 Axes>"
      ]
     },
     "metadata": {},
     "output_type": "display_data"
    }
   ],
   "source": [
    "#lets check box plot for outliers\n",
    "sns.boxplot(df['bmi'])\n",
    "plt.show()"
   ]
  },
  {
   "cell_type": "markdown",
   "id": "6d5d4478",
   "metadata": {},
   "source": [
    "# Observation\n",
    "From box plot we can see that there r few outliers in bmi column"
   ]
  },
  {
   "cell_type": "code",
   "execution_count": 21,
   "id": "5d438a65",
   "metadata": {},
   "outputs": [
    {
     "data": {
      "text/plain": [
       "age         0.055673\n",
       "bmi         0.284047\n",
       "children    0.938380\n",
       "charges     1.515880\n",
       "dtype: float64"
      ]
     },
     "execution_count": 21,
     "metadata": {},
     "output_type": "execute_result"
    }
   ],
   "source": [
    "df.skew()"
   ]
  },
  {
   "cell_type": "code",
   "execution_count": 22,
   "id": "b37706c3",
   "metadata": {},
   "outputs": [],
   "source": [
    "#to remove skewness from children column lets use cbrt method\n",
    "df['children']=np.cbrt(df['children'])"
   ]
  },
  {
   "cell_type": "code",
   "execution_count": 23,
   "id": "e6b74a31",
   "metadata": {},
   "outputs": [
    {
     "data": {
      "text/plain": [
       "-0.09711641085823748"
      ]
     },
     "execution_count": 23,
     "metadata": {},
     "output_type": "execute_result"
    }
   ],
   "source": [
    "df['children'].skew()"
   ]
  },
  {
   "cell_type": "code",
   "execution_count": 24,
   "id": "c2074404",
   "metadata": {},
   "outputs": [
    {
     "data": {
      "image/png": "[encoded data removed]",
      "text/plain": [
       "<Figure size 640x480 with 1 Axes>"
      ]
     },
     "metadata": {},
     "output_type": "display_data"
    }
   ],
   "source": [
    "sns.distplot(df['children'])\n",
    "plt.show()"
   ]
  },
  {
   "cell_type": "code",
   "execution_count": 25,
   "id": "ce8b7040",
   "metadata": {},
   "outputs": [
    {
     "data": {
      "text/plain": [
       "0       0.453320\n",
       "1       0.509621\n",
       "2       0.383307\n",
       "3       1.305531\n",
       "4       0.292556\n",
       "          ...   \n",
       "1333    0.050297\n",
       "1334    0.206139\n",
       "1335    1.014878\n",
       "1336    0.797813\n",
       "1337    0.261388\n",
       "Name: bmi, Length: 1338, dtype: float64"
      ]
     },
     "execution_count": 25,
     "metadata": {},
     "output_type": "execute_result"
    }
   ],
   "source": [
    "#now lets remove outliers from bmi column using z-score method\n",
    "from scipy.stats import zscore \n",
    "z=np.abs(zscore(df['bmi']))\n",
    "z"
   ]
  },
  {
   "cell_type": "code",
   "execution_count": 26,
   "id": "904f0da3",
   "metadata": {},
   "outputs": [
    {
     "data": {
      "text/plain": [
       "(array([ 116,  847, 1047, 1317], dtype=int64),)"
      ]
     },
     "execution_count": 26,
     "metadata": {},
     "output_type": "execute_result"
    }
   ],
   "source": [
    "#threshold=3\n",
    "np.where(z>3)\n"
   ]
  },
  {
   "cell_type": "code",
   "execution_count": 27,
   "id": "b9214fa3",
   "metadata": {},
   "outputs": [
    {
     "data": {
      "text/plain": [
       "3.685522232281654"
      ]
     },
     "execution_count": 27,
     "metadata": {},
     "output_type": "execute_result"
    }
   ],
   "source": [
    "z.iloc[1317]"
   ]
  },
  {
   "cell_type": "code",
   "execution_count": 28,
   "id": "680cb723",
   "metadata": {},
   "outputs": [
    {
     "data": {
      "text/plain": [
       "(1334, 7)"
      ]
     },
     "execution_count": 28,
     "metadata": {},
     "output_type": "execute_result"
    }
   ],
   "source": [
    "#now removing outliers from our data set\n",
    "df1=df[(z<3)]\n",
    "df1.shape"
   ]
  },
  {
   "cell_type": "code",
   "execution_count": 29,
   "id": "998ecc94",
   "metadata": {},
   "outputs": [
    {
     "data": {
      "text/html": [
       "<div>\n",
       "<style scoped>\n",
       "    .dataframe tbody tr th:only-of-type {\n",
       "        vertical-align: middle;\n",
       "    }\n",
       "\n",
       "    .dataframe tbody tr th {\n",
       "        vertical-align: top;\n",
       "    }\n",
       "\n",
       "    .dataframe thead th {\n",
       "        text-align: right;\n",
       "    }\n",
       "</style>\n",
       "<table border=\"1\" class=\"dataframe\">\n",
       "  <thead>\n",
       "    <tr style=\"text-align: right;\">\n",
       "      <th></th>\n",
       "      <th>age</th>\n",
       "      <th>bmi</th>\n",
       "      <th>children</th>\n",
       "      <th>charges</th>\n",
       "    </tr>\n",
       "  </thead>\n",
       "  <tbody>\n",
       "    <tr>\n",
       "      <th>count</th>\n",
       "      <td>1334.000000</td>\n",
       "      <td>1334.000000</td>\n",
       "      <td>1334.000000</td>\n",
       "      <td>1334.000000</td>\n",
       "    </tr>\n",
       "    <tr>\n",
       "      <th>mean</th>\n",
       "      <td>39.233883</td>\n",
       "      <td>30.601555</td>\n",
       "      <td>0.690614</td>\n",
       "      <td>13265.622751</td>\n",
       "    </tr>\n",
       "    <tr>\n",
       "      <th>std</th>\n",
       "      <td>14.034654</td>\n",
       "      <td>6.000927</td>\n",
       "      <td>0.617894</td>\n",
       "      <td>12089.666548</td>\n",
       "    </tr>\n",
       "    <tr>\n",
       "      <th>min</th>\n",
       "      <td>18.000000</td>\n",
       "      <td>15.960000</td>\n",
       "      <td>0.000000</td>\n",
       "      <td>1121.873900</td>\n",
       "    </tr>\n",
       "    <tr>\n",
       "      <th>25%</th>\n",
       "      <td>27.000000</td>\n",
       "      <td>26.237500</td>\n",
       "      <td>0.000000</td>\n",
       "      <td>4746.521225</td>\n",
       "    </tr>\n",
       "    <tr>\n",
       "      <th>50%</th>\n",
       "      <td>39.000000</td>\n",
       "      <td>30.332500</td>\n",
       "      <td>1.000000</td>\n",
       "      <td>9382.033000</td>\n",
       "    </tr>\n",
       "    <tr>\n",
       "      <th>75%</th>\n",
       "      <td>51.000000</td>\n",
       "      <td>34.595000</td>\n",
       "      <td>1.259921</td>\n",
       "      <td>16639.912515</td>\n",
       "    </tr>\n",
       "    <tr>\n",
       "      <th>max</th>\n",
       "      <td>64.000000</td>\n",
       "      <td>48.070000</td>\n",
       "      <td>1.709976</td>\n",
       "      <td>63770.428010</td>\n",
       "    </tr>\n",
       "  </tbody>\n",
       "</table>\n",
       "</div>"
      ],
      "text/plain": [
       "               age          bmi     children       charges\n",
       "count  1334.000000  1334.000000  1334.000000   1334.000000\n",
       "mean     39.233883    30.601555     0.690614  13265.622751\n",
       "std      14.034654     6.000927     0.617894  12089.666548\n",
       "min      18.000000    15.960000     0.000000   1121.873900\n",
       "25%      27.000000    26.237500     0.000000   4746.521225\n",
       "50%      39.000000    30.332500     1.000000   9382.033000\n",
       "75%      51.000000    34.595000     1.259921  16639.912515\n",
       "max      64.000000    48.070000     1.709976  63770.428010"
      ]
     },
     "execution_count": 29,
     "metadata": {},
     "output_type": "execute_result"
    }
   ],
   "source": [
    "df=df1\n",
    "df.describe()"
   ]
  },
  {
   "cell_type": "code",
   "execution_count": 30,
   "id": "6572319d",
   "metadata": {},
   "outputs": [
    {
     "data": {
      "image/png": "[encoded data removed]",
      "text/plain": [
       "<Figure size 640x480 with 1 Axes>"
      ]
     },
     "metadata": {},
     "output_type": "display_data"
    }
   ],
   "source": [
    "#lets check box plot for outliers\n",
    "sns.boxplot(df['bmi'])\n",
    "plt.show()"
   ]
  },
  {
   "cell_type": "code",
   "execution_count": 31,
   "id": "fdb962f4",
   "metadata": {},
   "outputs": [
    {
     "data": {
      "image/png": "[encoded data removed]",
      "text/plain": [
       "<Figure size 640x480 with 1 Axes>"
      ]
     },
     "metadata": {},
     "output_type": "display_data"
    }
   ],
   "source": [
    "sns.distplot(df['bmi'])\n",
    "plt.show()"
   ]
  },
  {
   "cell_type": "markdown",
   "id": "1dfac056",
   "metadata": {},
   "source": [
    "# Observation\n",
    "Till now we have removed skewness from children column and removed outliers from bmi column.\n",
    "\n",
    "our data is normally distributed\n",
    "\n",
    "Now lets check for multicollinearity issue"
   ]
  },
  {
   "cell_type": "code",
   "execution_count": 32,
   "id": "c65350c7",
   "metadata": {},
   "outputs": [
    {
     "name": "stdout",
     "output_type": "stream",
     "text": [
      "Requirement already satisfied: category_encoders in c:\\users\\91969\\anaconda\\lib\\site-packages (2.6.1)\n",
      "Requirement already satisfied: scikit-learn>=0.20.0 in c:\\users\\91969\\anaconda\\lib\\site-packages (from category_encoders) (1.0.2)\n",
      "Requirement already satisfied: scipy>=1.0.0 in c:\\users\\91969\\anaconda\\lib\\site-packages (from category_encoders) (1.9.1)\n",
      "Requirement already satisfied: pandas>=1.0.5 in c:\\users\\91969\\anaconda\\lib\\site-packages (from category_encoders) (1.4.4)\n",
      "Requirement already satisfied: statsmodels>=0.9.0 in c:\\users\\91969\\anaconda\\lib\\site-packages (from category_encoders) (0.13.2)\n",
      "Requirement already satisfied: patsy>=0.5.1 in c:\\users\\91969\\anaconda\\lib\\site-packages (from category_encoders) (0.5.2)\n",
      "Requirement already satisfied: numpy>=1.14.0 in c:\\users\\91969\\anaconda\\lib\\site-packages (from category_encoders) (1.21.5)\n",
      "Requirement already satisfied: python-dateutil>=2.8.1 in c:\\users\\91969\\anaconda\\lib\\site-packages (from pandas>=1.0.5->category_encoders) (2.8.2)\n",
      "Requirement already satisfied: pytz>=2020.1 in c:\\users\\91969\\anaconda\\lib\\site-packages (from pandas>=1.0.5->category_encoders) (2022.1)\n",
      "Requirement already satisfied: six in c:\\users\\91969\\anaconda\\lib\\site-packages (from patsy>=0.5.1->category_encoders) (1.16.0)\n",
      "Requirement already satisfied: threadpoolctl>=2.0.0 in c:\\users\\91969\\anaconda\\lib\\site-packages (from scikit-learn>=0.20.0->category_encoders) (2.2.0)\n",
      "Requirement already satisfied: joblib>=0.11 in c:\\users\\91969\\anaconda\\lib\\site-packages (from scikit-learn>=0.20.0->category_encoders) (1.2.0)\n",
      "Requirement already satisfied: packaging>=21.3 in c:\\users\\91969\\anaconda\\lib\\site-packages (from statsmodels>=0.9.0->category_encoders) (21.3)\n",
      "Requirement already satisfied: pyparsing!=3.0.5,>=2.0.2 in c:\\users\\91969\\anaconda\\lib\\site-packages (from packaging>=21.3->statsmodels>=0.9.0->category_encoders) (3.0.9)\n"
     ]
    }
   ],
   "source": [
    "!pip install category_encoders"
   ]
  },
  {
   "cell_type": "code",
   "execution_count": 33,
   "id": "70971dd1",
   "metadata": {},
   "outputs": [],
   "source": [
    "#lets encode categorical features using label encoder\n",
    "from sklearn.preprocessing import LabelEncoder "
   ]
  },
  {
   "cell_type": "code",
   "execution_count": 34,
   "id": "0c55dc62",
   "metadata": {},
   "outputs": [],
   "source": [
    "for col in df.columns:\n",
    "    if df[col].dtype == object:\n",
    "        label = LabelEncoder()\n",
    "        df[col] = label.fit_transform(df[col])"
   ]
  },
  {
   "cell_type": "code",
   "execution_count": 35,
   "id": "07bdc5e0",
   "metadata": {},
   "outputs": [
    {
     "data": {
      "text/html": [
       "<div>\n",
       "<style scoped>\n",
       "    .dataframe tbody tr th:only-of-type {\n",
       "        vertical-align: middle;\n",
       "    }\n",
       "\n",
       "    .dataframe tbody tr th {\n",
       "        vertical-align: top;\n",
       "    }\n",
       "\n",
       "    .dataframe thead th {\n",
       "        text-align: right;\n",
       "    }\n",
       "</style>\n",
       "<table border=\"1\" class=\"dataframe\">\n",
       "  <thead>\n",
       "    <tr style=\"text-align: right;\">\n",
       "      <th></th>\n",
       "      <th>age</th>\n",
       "      <th>sex</th>\n",
       "      <th>bmi</th>\n",
       "      <th>children</th>\n",
       "      <th>smoker</th>\n",
       "      <th>region</th>\n",
       "      <th>charges</th>\n",
       "    </tr>\n",
       "  </thead>\n",
       "  <tbody>\n",
       "    <tr>\n",
       "      <th>count</th>\n",
       "      <td>1334.000000</td>\n",
       "      <td>1334.000000</td>\n",
       "      <td>1334.000000</td>\n",
       "      <td>1334.000000</td>\n",
       "      <td>1334.000000</td>\n",
       "      <td>1334.000000</td>\n",
       "      <td>1334.000000</td>\n",
       "    </tr>\n",
       "    <tr>\n",
       "      <th>mean</th>\n",
       "      <td>39.233883</td>\n",
       "      <td>0.503748</td>\n",
       "      <td>30.601555</td>\n",
       "      <td>0.690614</td>\n",
       "      <td>0.204648</td>\n",
       "      <td>1.514243</td>\n",
       "      <td>13265.622751</td>\n",
       "    </tr>\n",
       "    <tr>\n",
       "      <th>std</th>\n",
       "      <td>14.034654</td>\n",
       "      <td>0.500173</td>\n",
       "      <td>6.000927</td>\n",
       "      <td>0.617894</td>\n",
       "      <td>0.403595</td>\n",
       "      <td>1.106222</td>\n",
       "      <td>12089.666548</td>\n",
       "    </tr>\n",
       "    <tr>\n",
       "      <th>min</th>\n",
       "      <td>18.000000</td>\n",
       "      <td>0.000000</td>\n",
       "      <td>15.960000</td>\n",
       "      <td>0.000000</td>\n",
       "      <td>0.000000</td>\n",
       "      <td>0.000000</td>\n",
       "      <td>1121.873900</td>\n",
       "    </tr>\n",
       "    <tr>\n",
       "      <th>25%</th>\n",
       "      <td>27.000000</td>\n",
       "      <td>0.000000</td>\n",
       "      <td>26.237500</td>\n",
       "      <td>0.000000</td>\n",
       "      <td>0.000000</td>\n",
       "      <td>1.000000</td>\n",
       "      <td>4746.521225</td>\n",
       "    </tr>\n",
       "    <tr>\n",
       "      <th>50%</th>\n",
       "      <td>39.000000</td>\n",
       "      <td>1.000000</td>\n",
       "      <td>30.332500</td>\n",
       "      <td>1.000000</td>\n",
       "      <td>0.000000</td>\n",
       "      <td>2.000000</td>\n",
       "      <td>9382.033000</td>\n",
       "    </tr>\n",
       "    <tr>\n",
       "      <th>75%</th>\n",
       "      <td>51.000000</td>\n",
       "      <td>1.000000</td>\n",
       "      <td>34.595000</td>\n",
       "      <td>1.259921</td>\n",
       "      <td>0.000000</td>\n",
       "      <td>2.000000</td>\n",
       "      <td>16639.912515</td>\n",
       "    </tr>\n",
       "    <tr>\n",
       "      <th>max</th>\n",
       "      <td>64.000000</td>\n",
       "      <td>1.000000</td>\n",
       "      <td>48.070000</td>\n",
       "      <td>1.709976</td>\n",
       "      <td>1.000000</td>\n",
       "      <td>3.000000</td>\n",
       "      <td>63770.428010</td>\n",
       "    </tr>\n",
       "  </tbody>\n",
       "</table>\n",
       "</div>"
      ],
      "text/plain": [
       "               age          sex          bmi     children       smoker  \\\n",
       "count  1334.000000  1334.000000  1334.000000  1334.000000  1334.000000   \n",
       "mean     39.233883     0.503748    30.601555     0.690614     0.204648   \n",
       "std      14.034654     0.500173     6.000927     0.617894     0.403595   \n",
       "min      18.000000     0.000000    15.960000     0.000000     0.000000   \n",
       "25%      27.000000     0.000000    26.237500     0.000000     0.000000   \n",
       "50%      39.000000     1.000000    30.332500     1.000000     0.000000   \n",
       "75%      51.000000     1.000000    34.595000     1.259921     0.000000   \n",
       "max      64.000000     1.000000    48.070000     1.709976     1.000000   \n",
       "\n",
       "            region       charges  \n",
       "count  1334.000000   1334.000000  \n",
       "mean      1.514243  13265.622751  \n",
       "std       1.106222  12089.666548  \n",
       "min       0.000000   1121.873900  \n",
       "25%       1.000000   4746.521225  \n",
       "50%       2.000000   9382.033000  \n",
       "75%       2.000000  16639.912515  \n",
       "max       3.000000  63770.428010  "
      ]
     },
     "execution_count": 35,
     "metadata": {},
     "output_type": "execute_result"
    }
   ],
   "source": [
    "df.describe()"
   ]
  },
  {
   "cell_type": "code",
   "execution_count": 36,
   "id": "41359350",
   "metadata": {},
   "outputs": [
    {
     "data": {
      "text/html": [
       "<div>\n",
       "<style scoped>\n",
       "    .dataframe tbody tr th:only-of-type {\n",
       "        vertical-align: middle;\n",
       "    }\n",
       "\n",
       "    .dataframe tbody tr th {\n",
       "        vertical-align: top;\n",
       "    }\n",
       "\n",
       "    .dataframe thead th {\n",
       "        text-align: right;\n",
       "    }\n",
       "</style>\n",
       "<table border=\"1\" class=\"dataframe\">\n",
       "  <thead>\n",
       "    <tr style=\"text-align: right;\">\n",
       "      <th></th>\n",
       "      <th>age</th>\n",
       "      <th>sex</th>\n",
       "      <th>bmi</th>\n",
       "      <th>children</th>\n",
       "      <th>smoker</th>\n",
       "      <th>region</th>\n",
       "      <th>charges</th>\n",
       "    </tr>\n",
       "  </thead>\n",
       "  <tbody>\n",
       "    <tr>\n",
       "      <th>age</th>\n",
       "      <td>1.000000</td>\n",
       "      <td>-0.019041</td>\n",
       "      <td>0.118887</td>\n",
       "      <td>0.049851</td>\n",
       "      <td>-0.023820</td>\n",
       "      <td>0.002974</td>\n",
       "      <td>0.301360</td>\n",
       "    </tr>\n",
       "    <tr>\n",
       "      <th>sex</th>\n",
       "      <td>-0.019041</td>\n",
       "      <td>1.000000</td>\n",
       "      <td>0.037031</td>\n",
       "      <td>0.017140</td>\n",
       "      <td>0.076096</td>\n",
       "      <td>0.003293</td>\n",
       "      <td>0.057165</td>\n",
       "    </tr>\n",
       "    <tr>\n",
       "      <th>bmi</th>\n",
       "      <td>0.118887</td>\n",
       "      <td>0.037031</td>\n",
       "      <td>1.000000</td>\n",
       "      <td>0.019930</td>\n",
       "      <td>0.002264</td>\n",
       "      <td>0.155877</td>\n",
       "      <td>0.200799</td>\n",
       "    </tr>\n",
       "    <tr>\n",
       "      <th>children</th>\n",
       "      <td>0.049851</td>\n",
       "      <td>0.017140</td>\n",
       "      <td>0.019930</td>\n",
       "      <td>1.000000</td>\n",
       "      <td>0.010463</td>\n",
       "      <td>0.014558</td>\n",
       "      <td>0.071465</td>\n",
       "    </tr>\n",
       "    <tr>\n",
       "      <th>smoker</th>\n",
       "      <td>-0.023820</td>\n",
       "      <td>0.076096</td>\n",
       "      <td>0.002264</td>\n",
       "      <td>0.010463</td>\n",
       "      <td>1.000000</td>\n",
       "      <td>-0.002333</td>\n",
       "      <td>0.786536</td>\n",
       "    </tr>\n",
       "    <tr>\n",
       "      <th>region</th>\n",
       "      <td>0.002974</td>\n",
       "      <td>0.003293</td>\n",
       "      <td>0.155877</td>\n",
       "      <td>0.014558</td>\n",
       "      <td>-0.002333</td>\n",
       "      <td>1.000000</td>\n",
       "      <td>-0.006404</td>\n",
       "    </tr>\n",
       "    <tr>\n",
       "      <th>charges</th>\n",
       "      <td>0.301360</td>\n",
       "      <td>0.057165</td>\n",
       "      <td>0.200799</td>\n",
       "      <td>0.071465</td>\n",
       "      <td>0.786536</td>\n",
       "      <td>-0.006404</td>\n",
       "      <td>1.000000</td>\n",
       "    </tr>\n",
       "  </tbody>\n",
       "</table>\n",
       "</div>"
      ],
      "text/plain": [
       "               age       sex       bmi  children    smoker    region   charges\n",
       "age       1.000000 -0.019041  0.118887  0.049851 -0.023820  0.002974  0.301360\n",
       "sex      -0.019041  1.000000  0.037031  0.017140  0.076096  0.003293  0.057165\n",
       "bmi       0.118887  0.037031  1.000000  0.019930  0.002264  0.155877  0.200799\n",
       "children  0.049851  0.017140  0.019930  1.000000  0.010463  0.014558  0.071465\n",
       "smoker   -0.023820  0.076096  0.002264  0.010463  1.000000 -0.002333  0.786536\n",
       "region    0.002974  0.003293  0.155877  0.014558 -0.002333  1.000000 -0.006404\n",
       "charges   0.301360  0.057165  0.200799  0.071465  0.786536 -0.006404  1.000000"
      ]
     },
     "execution_count": 36,
     "metadata": {},
     "output_type": "execute_result"
    }
   ],
   "source": [
    "#Now lets chech multicollinearity issue\n",
    "corr=df.corr()\n",
    "corr"
   ]
  },
  {
   "cell_type": "code",
   "execution_count": 37,
   "id": "3171cc51",
   "metadata": {},
   "outputs": [
    {
     "data": {
      "image/png": "[encoded data removed]",
      "text/plain": [
       "<Figure size 640x480 with 2 Axes>"
      ]
     },
     "metadata": {},
     "output_type": "display_data"
    }
   ],
   "source": [
    "#Let's plot heatmap for visualisation purpose\n",
    "sns.heatmap(corr,annot=True)\n",
    "plt.show()"
   ]
  },
  {
   "cell_type": "markdown",
   "id": "f55d0dde",
   "metadata": {},
   "source": [
    "# Obervation\n",
    "All features except region have positive corelation with our target variable whereas region have negative correlation with our target variable.\n",
    "\n",
    "Smoker column have strong positive relation with our target variable.\n",
    "\n",
    "Region column have very less corelation with our target variable and we can drop it if necessary.\n",
    "\n",
    "Rest all features are somehow related to each other\n"
   ]
  },
  {
   "cell_type": "code",
   "execution_count": 38,
   "id": "92392fcd",
   "metadata": {},
   "outputs": [],
   "source": [
    "#Let's separate features and labels\n",
    "X=df.drop(columns=['charges'])\n",
    "y=df['charges']"
   ]
  },
  {
   "cell_type": "code",
   "execution_count": 39,
   "id": "ee5689ab",
   "metadata": {},
   "outputs": [],
   "source": [
    "#Let's standarize our data\n",
    "from sklearn.preprocessing import StandardScaler"
   ]
  },
  {
   "cell_type": "code",
   "execution_count": 40,
   "id": "2d28a370",
   "metadata": {},
   "outputs": [
    {
     "data": {
      "text/html": [
       "<div>\n",
       "<style scoped>\n",
       "    .dataframe tbody tr th:only-of-type {\n",
       "        vertical-align: middle;\n",
       "    }\n",
       "\n",
       "    .dataframe tbody tr th {\n",
       "        vertical-align: top;\n",
       "    }\n",
       "\n",
       "    .dataframe thead th {\n",
       "        text-align: right;\n",
       "    }\n",
       "</style>\n",
       "<table border=\"1\" class=\"dataframe\">\n",
       "  <thead>\n",
       "    <tr style=\"text-align: right;\">\n",
       "      <th></th>\n",
       "      <th>age</th>\n",
       "      <th>sex</th>\n",
       "      <th>bmi</th>\n",
       "      <th>children</th>\n",
       "      <th>smoker</th>\n",
       "      <th>region</th>\n",
       "    </tr>\n",
       "  </thead>\n",
       "  <tbody>\n",
       "    <tr>\n",
       "      <th>0</th>\n",
       "      <td>-1.442249</td>\n",
       "      <td>-1.007525</td>\n",
       "      <td>-0.450359</td>\n",
       "      <td>-1.118109</td>\n",
       "      <td>1.971407</td>\n",
       "      <td>1.343594</td>\n",
       "    </tr>\n",
       "    <tr>\n",
       "      <th>1</th>\n",
       "      <td>-1.513528</td>\n",
       "      <td>0.992532</td>\n",
       "      <td>0.528191</td>\n",
       "      <td>0.500899</td>\n",
       "      <td>-0.507252</td>\n",
       "      <td>0.439278</td>\n",
       "    </tr>\n",
       "    <tr>\n",
       "      <th>2</th>\n",
       "      <td>-0.800739</td>\n",
       "      <td>0.992532</td>\n",
       "      <td>0.399829</td>\n",
       "      <td>1.216904</td>\n",
       "      <td>-0.507252</td>\n",
       "      <td>0.439278</td>\n",
       "    </tr>\n",
       "    <tr>\n",
       "      <th>3</th>\n",
       "      <td>-0.444344</td>\n",
       "      <td>0.992532</td>\n",
       "      <td>-1.316383</td>\n",
       "      <td>-1.118109</td>\n",
       "      <td>-0.507252</td>\n",
       "      <td>-0.465038</td>\n",
       "    </tr>\n",
       "    <tr>\n",
       "      <th>4</th>\n",
       "      <td>-0.515623</td>\n",
       "      <td>0.992532</td>\n",
       "      <td>-0.286989</td>\n",
       "      <td>-1.118109</td>\n",
       "      <td>-0.507252</td>\n",
       "      <td>-0.465038</td>\n",
       "    </tr>\n",
       "    <tr>\n",
       "      <th>...</th>\n",
       "      <td>...</td>\n",
       "      <td>...</td>\n",
       "      <td>...</td>\n",
       "      <td>...</td>\n",
       "      <td>...</td>\n",
       "      <td>...</td>\n",
       "    </tr>\n",
       "    <tr>\n",
       "      <th>1329</th>\n",
       "      <td>0.767397</td>\n",
       "      <td>0.992532</td>\n",
       "      <td>0.061421</td>\n",
       "      <td>1.216904</td>\n",
       "      <td>-0.507252</td>\n",
       "      <td>-0.465038</td>\n",
       "    </tr>\n",
       "    <tr>\n",
       "      <th>1330</th>\n",
       "      <td>-1.513528</td>\n",
       "      <td>-1.007525</td>\n",
       "      <td>0.219789</td>\n",
       "      <td>-1.118109</td>\n",
       "      <td>-0.507252</td>\n",
       "      <td>-1.369355</td>\n",
       "    </tr>\n",
       "    <tr>\n",
       "      <th>1331</th>\n",
       "      <td>-1.513528</td>\n",
       "      <td>-1.007525</td>\n",
       "      <td>1.041637</td>\n",
       "      <td>-1.118109</td>\n",
       "      <td>-0.507252</td>\n",
       "      <td>0.439278</td>\n",
       "    </tr>\n",
       "    <tr>\n",
       "      <th>1332</th>\n",
       "      <td>-1.299692</td>\n",
       "      <td>-1.007525</td>\n",
       "      <td>-0.800436</td>\n",
       "      <td>-1.118109</td>\n",
       "      <td>-0.507252</td>\n",
       "      <td>1.343594</td>\n",
       "    </tr>\n",
       "    <tr>\n",
       "      <th>1333</th>\n",
       "      <td>1.551465</td>\n",
       "      <td>-1.007525</td>\n",
       "      <td>-0.255316</td>\n",
       "      <td>-1.118109</td>\n",
       "      <td>1.971407</td>\n",
       "      <td>-0.465038</td>\n",
       "    </tr>\n",
       "  </tbody>\n",
       "</table>\n",
       "<p>1334 rows × 6 columns</p>\n",
       "</div>"
      ],
      "text/plain": [
       "           age       sex       bmi  children    smoker    region\n",
       "0    -1.442249 -1.007525 -0.450359 -1.118109  1.971407  1.343594\n",
       "1    -1.513528  0.992532  0.528191  0.500899 -0.507252  0.439278\n",
       "2    -0.800739  0.992532  0.399829  1.216904 -0.507252  0.439278\n",
       "3    -0.444344  0.992532 -1.316383 -1.118109 -0.507252 -0.465038\n",
       "4    -0.515623  0.992532 -0.286989 -1.118109 -0.507252 -0.465038\n",
       "...        ...       ...       ...       ...       ...       ...\n",
       "1329  0.767397  0.992532  0.061421  1.216904 -0.507252 -0.465038\n",
       "1330 -1.513528 -1.007525  0.219789 -1.118109 -0.507252 -1.369355\n",
       "1331 -1.513528 -1.007525  1.041637 -1.118109 -0.507252  0.439278\n",
       "1332 -1.299692 -1.007525 -0.800436 -1.118109 -0.507252  1.343594\n",
       "1333  1.551465 -1.007525 -0.255316 -1.118109  1.971407 -0.465038\n",
       "\n",
       "[1334 rows x 6 columns]"
      ]
     },
     "execution_count": 40,
     "metadata": {},
     "output_type": "execute_result"
    }
   ],
   "source": [
    "scalar = StandardScaler()\n",
    "X_scaled=scalar.fit_transform(X)\n",
    "X=pd.DataFrame(X_scaled,columns=X.columns)\n",
    "X"
   ]
  },
  {
   "cell_type": "markdown",
   "id": "255ef847",
   "metadata": {},
   "source": [
    "# Observation\n",
    "Till now we have separated features and labels\n",
    "\n",
    "our data is standarized\n",
    "\n",
    "Now lets check for multicollinearity problem using vif"
   ]
  },
  {
   "cell_type": "code",
   "execution_count": 41,
   "id": "9645e364",
   "metadata": {},
   "outputs": [],
   "source": [
    "#checking multicollinerity problem using vif\n",
    "from statsmodels.stats.outliers_influence import variance_inflation_factor"
   ]
  },
  {
   "cell_type": "code",
   "execution_count": 42,
   "id": "3e791732",
   "metadata": {},
   "outputs": [
    {
     "data": {
      "text/html": [
       "<div>\n",
       "<style scoped>\n",
       "    .dataframe tbody tr th:only-of-type {\n",
       "        vertical-align: middle;\n",
       "    }\n",
       "\n",
       "    .dataframe tbody tr th {\n",
       "        vertical-align: top;\n",
       "    }\n",
       "\n",
       "    .dataframe thead th {\n",
       "        text-align: right;\n",
       "    }\n",
       "</style>\n",
       "<table border=\"1\" class=\"dataframe\">\n",
       "  <thead>\n",
       "    <tr style=\"text-align: right;\">\n",
       "      <th></th>\n",
       "      <th>vif</th>\n",
       "      <th>features</th>\n",
       "    </tr>\n",
       "  </thead>\n",
       "  <tbody>\n",
       "    <tr>\n",
       "      <th>0</th>\n",
       "      <td>1.018089</td>\n",
       "      <td>age</td>\n",
       "    </tr>\n",
       "    <tr>\n",
       "      <th>1</th>\n",
       "      <td>1.007973</td>\n",
       "      <td>sex</td>\n",
       "    </tr>\n",
       "    <tr>\n",
       "      <th>2</th>\n",
       "      <td>1.041617</td>\n",
       "      <td>bmi</td>\n",
       "    </tr>\n",
       "    <tr>\n",
       "      <th>3</th>\n",
       "      <td>1.003263</td>\n",
       "      <td>children</td>\n",
       "    </tr>\n",
       "    <tr>\n",
       "      <th>4</th>\n",
       "      <td>1.006452</td>\n",
       "      <td>smoker</td>\n",
       "    </tr>\n",
       "    <tr>\n",
       "      <th>5</th>\n",
       "      <td>1.025337</td>\n",
       "      <td>region</td>\n",
       "    </tr>\n",
       "  </tbody>\n",
       "</table>\n",
       "</div>"
      ],
      "text/plain": [
       "        vif  features\n",
       "0  1.018089       age\n",
       "1  1.007973       sex\n",
       "2  1.041617       bmi\n",
       "3  1.003263  children\n",
       "4  1.006452    smoker\n",
       "5  1.025337    region"
      ]
     },
     "execution_count": 42,
     "metadata": {},
     "output_type": "execute_result"
    }
   ],
   "source": [
    "vif=pd.DataFrame()\n",
    "vif['vif']=[variance_inflation_factor(X,i) for i in range (X.shape[1])]\n",
    "vif['features']=X.columns\n",
    "vif"
   ]
  },
  {
   "cell_type": "markdown",
   "id": "a7c2f2df",
   "metadata": {},
   "source": [
    "# Observation\n",
    "VIF value for all features is below 5 it means there is no multicoliinearity problem \n",
    "\n",
    "Dataset is small but let's see what happens after applying feature selection method\n",
    "\n",
    "let's use kbest feature selection technique\n"
   ]
  },
  {
   "cell_type": "code",
   "execution_count": 43,
   "id": "efa3d712",
   "metadata": {},
   "outputs": [],
   "source": [
    "from sklearn.feature_selection import SelectKBest,f_classif"
   ]
  },
  {
   "cell_type": "code",
   "execution_count": 44,
   "id": "a0c0efe0",
   "metadata": {},
   "outputs": [
    {
     "name": "stdout",
     "output_type": "stream",
     "text": [
      "  feat_name  Score\n",
      "0       age    inf\n",
      "1       sex    inf\n",
      "2       bmi    inf\n",
      "3  children    inf\n"
     ]
    }
   ],
   "source": [
    "best=SelectKBest(score_func=f_classif,k=4)\n",
    "fit=best.fit(X,y)\n",
    "df_scores=pd.DataFrame(fit.scores_)\n",
    "df_columns=pd.DataFrame(X.columns)\n",
    "feature=pd.concat([df_columns,df_scores],axis=1)\n",
    "feature.columns=['feat_name','Score']\n",
    "print(feature.nlargest(4,'Score'))"
   ]
  },
  {
   "cell_type": "markdown",
   "id": "220a9a01",
   "metadata": {},
   "source": [
    "# Observation\n",
    "As it is showing score as  infinite ,we will have to deal with it but dataset is small so we will not delete any column\n",
    "\n",
    "Let's begin our modelling part"
   ]
  },
  {
   "cell_type": "markdown",
   "id": "7439ce06",
   "metadata": {},
   "source": [
    "# Modelling"
   ]
  },
  {
   "cell_type": "code",
   "execution_count": 48,
   "id": "bb147620",
   "metadata": {},
   "outputs": [],
   "source": [
    "#lets import neccesary lib\n",
    "from sklearn.linear_model import LinearRegression\n",
    "from sklearn.neighbors import KNeighborsRegressor\n",
    "from sklearn.tree import DecisionTreeRegressor\n",
    "from sklearn.ensemble import BaggingRegressor,RandomForestRegressor,AdaBoostRegressor,GradientBoostingRegressor\n",
    "import xgboost as xgb\n",
    "from sklearn.svm import SVR\n",
    "from sklearn.model_selection import train_test_split"
   ]
  },
  {
   "cell_type": "code",
   "execution_count": 68,
   "id": "be64a186",
   "metadata": {},
   "outputs": [],
   "source": [
    "#creating training and test data\n",
    "x_train,x_test,y_train,y_test=train_test_split(X,y,test_size=0.25,random_state=22)"
   ]
  },
  {
   "cell_type": "code",
   "execution_count": 50,
   "id": "746d9e90",
   "metadata": {},
   "outputs": [],
   "source": [
    "#importing important metrics\n",
    "from sklearn.metrics import r2_score,mean_squared_error,mean_absolute_error\n",
    "from sklearn.linear_model import Ridge,Lasso,LassoCV,RidgeCV"
   ]
  },
  {
   "cell_type": "code",
   "execution_count": 69,
   "id": "423748df",
   "metadata": {},
   "outputs": [
    {
     "name": "stdout",
     "output_type": "stream",
     "text": [
      "R2 score is : 0.7672309570953155\n",
      "Mean Absolute Error is : 4382.240777521327\n",
      "Mean Squared Error is : 37513939.70530592\n",
      "Root Mean Squared Error is : 6124.862423377845\n"
     ]
    }
   ],
   "source": [
    "reg=LinearRegression()\n",
    "reg.fit(x_train,y_train)\n",
    "y1=reg.predict(x_test)\n",
    "print('R2 score is :',r2_score(y_test,y1))\n",
    "print('Mean Absolute Error is :',mean_absolute_error(y_test,y1))\n",
    "print('Mean Squared Error is :',mean_squared_error(y_test,y1))\n",
    "print('Root Mean Squared Error is :',np.sqrt(mean_squared_error(y_test,y1)))"
   ]
  },
  {
   "cell_type": "code",
   "execution_count": 71,
   "id": "4881513f",
   "metadata": {},
   "outputs": [
    {
     "name": "stdout",
     "output_type": "stream",
     "text": [
      "R2 score is : 0.8358539134684275\n",
      "Mean Absolute Error is : 3205.279945752096\n",
      "Mean Squared Error is : 26454404.400884423\n",
      "Root Mean Squared Error is : 5143.384527806998\n"
     ]
    }
   ],
   "source": [
    "knn=KNeighborsRegressor()\n",
    "knn.fit(x_train,y_train)\n",
    "y2=knn.predict(x_test)\n",
    "print('R2 score is :',r2_score(y_test,y2))\n",
    "print('Mean Absolute Error is :',mean_absolute_error(y_test,y2))\n",
    "print('Mean Squared Error is :',mean_squared_error(y_test,y2))\n",
    "print('Root Mean Squared Error is :',np.sqrt(mean_squared_error(y_test,y2)))"
   ]
  },
  {
   "cell_type": "code",
   "execution_count": 72,
   "id": "37ed9c80",
   "metadata": {},
   "outputs": [
    {
     "name": "stdout",
     "output_type": "stream",
     "text": [
      "R2 score is : 0.7513837937724328\n",
      "Mean Absolute Error is : 2992.0520043532933\n",
      "Mean Squared Error is : 40067928.508869424\n",
      "Root Mean Squared Error is : 6329.923262478735\n"
     ]
    }
   ],
   "source": [
    "tree=DecisionTreeRegressor()\n",
    "tree.fit(x_train,y_train)\n",
    "y3=tree.predict(x_test)\n",
    "print('R2 score is :',r2_score(y_test,y3))\n",
    "print('Mean Absolute Error is :',mean_absolute_error(y_test,y3))\n",
    "print('Mean Squared Error is :',mean_squared_error(y_test,y3))\n",
    "print('Root Mean Squared Error is :',np.sqrt(mean_squared_error(y_test,y3)))"
   ]
  },
  {
   "cell_type": "code",
   "execution_count": 73,
   "id": "5f37d516",
   "metadata": {},
   "outputs": [
    {
     "name": "stdout",
     "output_type": "stream",
     "text": [
      "R2 score is : 0.8536534928193095\n",
      "Mean Absolute Error is : 2758.9443098880242\n",
      "Mean Squared Error is : 23585756.842702806\n",
      "Root Mean Squared Error is : 4856.516945579703\n"
     ]
    }
   ],
   "source": [
    "bag=BaggingRegressor()\n",
    "bag.fit(x_train,y_train)\n",
    "y4=bag.predict(x_test)\n",
    "print('R2 score is :',r2_score(y_test,y4))\n",
    "print('Mean Absolute Error is :',mean_absolute_error(y_test,y4))\n",
    "print('Mean Squared Error is :',mean_squared_error(y_test,y4))\n",
    "print('Root Mean Squared Error is :',np.sqrt(mean_squared_error(y_test,y4)))"
   ]
  },
  {
   "cell_type": "code",
   "execution_count": 74,
   "id": "c93ec7b5",
   "metadata": {},
   "outputs": [
    {
     "name": "stdout",
     "output_type": "stream",
     "text": [
      "R2 score is : 0.8692176658812014\n",
      "Mean Absolute Error is : 2565.743267094086\n",
      "Mean Squared Error is : 21077375.82037824\n",
      "Root Mean Squared Error is : 4591.010326755782\n"
     ]
    }
   ],
   "source": [
    "rand=RandomForestRegressor()\n",
    "rand.fit(x_train,y_train)\n",
    "y5=rand.predict(x_test)\n",
    "print('R2 score is :',r2_score(y_test,y5))\n",
    "print('Mean Absolute Error is :',mean_absolute_error(y_test,y5))\n",
    "print('Mean Squared Error is :',mean_squared_error(y_test,y5))\n",
    "print('Root Mean Squared Error is :',np.sqrt(mean_squared_error(y_test,y5)))"
   ]
  },
  {
   "cell_type": "code",
   "execution_count": 75,
   "id": "c56fbddd",
   "metadata": {},
   "outputs": [
    {
     "name": "stdout",
     "output_type": "stream",
     "text": [
      "R2 score is : 0.8402052434305805\n",
      "Mean Absolute Error is : 4030.4607114022415\n",
      "Mean Squared Error is : 25753127.599634953\n",
      "Root Mean Squared Error is : 5074.753944738104\n"
     ]
    }
   ],
   "source": [
    "ada=AdaBoostRegressor()\n",
    "ada.fit(x_train,y_train)\n",
    "y6=ada.predict(x_test)\n",
    "print('R2 score is :',r2_score(y_test,y6))\n",
    "print('Mean Absolute Error is :',mean_absolute_error(y_test,y6))\n",
    "print('Mean Squared Error is :',mean_squared_error(y_test,y6))\n",
    "print('Root Mean Squared Error is :',np.sqrt(mean_squared_error(y_test,y6)))"
   ]
  },
  {
   "cell_type": "code",
   "execution_count": 76,
   "id": "b069e156",
   "metadata": {},
   "outputs": [
    {
     "name": "stdout",
     "output_type": "stream",
     "text": [
      "R2 score is : 0.8761424035235579\n",
      "Mean Absolute Error is : 2489.124416547319\n",
      "Mean Squared Error is : 19961358.900135133\n",
      "Root Mean Squared Error is : 4467.813659961115\n"
     ]
    }
   ],
   "source": [
    "grad=GradientBoostingRegressor()\n",
    "grad.fit(x_train,y_train)\n",
    "y7=grad.predict(x_test)\n",
    "print('R2 score is :',r2_score(y_test,y7))\n",
    "print('Mean Absolute Error is :',mean_absolute_error(y_test,y7))\n",
    "print('Mean Squared Error is :',mean_squared_error(y_test,y7))\n",
    "print('Root Mean Squared Error is :',np.sqrt(mean_squared_error(y_test,y7)))"
   ]
  },
  {
   "cell_type": "code",
   "execution_count": 77,
   "id": "9f8a455c",
   "metadata": {},
   "outputs": [
    {
     "name": "stdout",
     "output_type": "stream",
     "text": [
      "R2 score is : -0.10976586247594233\n",
      "Mean Absolute Error is : 8425.685917216997\n",
      "Mean Squared Error is : 178854065.52527213\n",
      "Root Mean Squared Error is : 13373.633220829413\n"
     ]
    }
   ],
   "source": [
    "svr=SVR()\n",
    "svr.fit(x_train,y_train)\n",
    "y8=svr.predict(x_test)\n",
    "print('R2 score is :',r2_score(y_test,y8))\n",
    "print('Mean Absolute Error is :',mean_absolute_error(y_test,y8))\n",
    "print('Mean Squared Error is :',mean_squared_error(y_test,y8))\n",
    "print('Root Mean Squared Error is :',np.sqrt(mean_squared_error(y_test,y8)))"
   ]
  },
  {
   "cell_type": "code",
   "execution_count": 78,
   "id": "13ac0c4c",
   "metadata": {},
   "outputs": [
    {
     "name": "stdout",
     "output_type": "stream",
     "text": [
      "R2 score is : 0.8539378780781408\n",
      "Mean Absolute Error is : 2749.5058903106283\n",
      "Mean Squared Error is : 23539924.23833347\n",
      "Root Mean Squared Error is : 4851.79598069967\n"
     ]
    }
   ],
   "source": [
    "xgb=xgb.XGBRegressor()\n",
    "xgb.fit(x_train,y_train)\n",
    "y9=xgb.predict(x_test)\n",
    "print('R2 score is :',r2_score(y_test,y9))\n",
    "print('Mean Absolute Error is :',mean_absolute_error(y_test,y9))\n",
    "print('Mean Squared Error is :',mean_squared_error(y_test,y9))\n",
    "print('Root Mean Squared Error is :',np.sqrt(mean_squared_error(y_test,y9)))"
   ]
  },
  {
   "cell_type": "code",
   "execution_count": 80,
   "id": "e5b6cef1",
   "metadata": {},
   "outputs": [
    {
     "data": {
      "text/plain": [
       "4.4333816514485465"
      ]
     },
     "execution_count": 80,
     "metadata": {},
     "output_type": "execute_result"
    }
   ],
   "source": [
    "lasscv=LassoCV(alphas=None,max_iter=100,normalize=True)\n",
    "lasscv.fit(x_train,y_train)\n",
    "alpha=lasscv.alpha_\n",
    "alpha"
   ]
  },
  {
   "cell_type": "code",
   "execution_count": 81,
   "id": "fdedd7f3",
   "metadata": {},
   "outputs": [
    {
     "name": "stdout",
     "output_type": "stream",
     "text": [
      "R2 score is : 0.7671750801337722\n",
      "Mean Absolute Error is : 4381.589270931234\n",
      "Mean Squared Error is : 37522945.0478553\n",
      "Root Mean Squared Error is : 6125.5975257810815\n"
     ]
    }
   ],
   "source": [
    "lasso=Lasso(alpha)\n",
    "lasso.fit(x_train,y_train)\n",
    "y10=lasso.predict(x_test)\n",
    "print('R2 score is :',r2_score(y_test,y10))\n",
    "print('Mean Absolute Error is :',mean_absolute_error(y_test,y10))\n",
    "print('Mean Squared Error is :',mean_squared_error(y_test,y10))\n",
    "print('Root Mean Squared Error is :',np.sqrt(mean_squared_error(y_test,y10)))"
   ]
  },
  {
   "cell_type": "code",
   "execution_count": 82,
   "id": "7bcfbe55",
   "metadata": {},
   "outputs": [
    {
     "name": "stdout",
     "output_type": "stream",
     "text": [
      "R2 score is : 0.7671176819846364\n",
      "Mean Absolute Error is : 4383.5283829359205\n",
      "Mean Squared Error is : 37532195.55075298\n",
      "Root Mean Squared Error is : 6126.35254868286\n"
     ]
    }
   ],
   "source": [
    "ridge=Ridge()\n",
    "ridge.fit(x_train,y_train)\n",
    "y11=ridge.predict(x_test)\n",
    "print('R2 score is :',r2_score(y_test,y11))\n",
    "print('Mean Absolute Error is :',mean_absolute_error(y_test,y11))\n",
    "print('Mean Squared Error is :',mean_squared_error(y_test,y11))\n",
    "print('Root Mean Squared Error is :',np.sqrt(mean_squared_error(y_test,y11)))"
   ]
  },
  {
   "cell_type": "markdown",
   "id": "8a3674d2",
   "metadata": {},
   "source": [
    "# Observation\n",
    "as per the metrics our gradientboostingregressor model is working best\n",
    "\n",
    "but lets check for cross validation score to avoid overfitting"
   ]
  },
  {
   "cell_type": "code",
   "execution_count": 83,
   "id": "442453ff",
   "metadata": {},
   "outputs": [],
   "source": [
    "#importing cross val score\n",
    "from sklearn.model_selection import cross_val_score"
   ]
  },
  {
   "cell_type": "code",
   "execution_count": 85,
   "id": "106ac9b7",
   "metadata": {},
   "outputs": [
    {
     "name": "stdout",
     "output_type": "stream",
     "text": [
      "Difference of r2_score and cross vald score is : 2.0501846489562103\n"
     ]
    }
   ],
   "source": [
    "score1=cross_val_score(reg,X,y)\n",
    "print('Difference of r2_score and cross vald score is :',(r2_score(y_test,y1)-score1.mean())*100)"
   ]
  },
  {
   "cell_type": "code",
   "execution_count": 86,
   "id": "36466cae",
   "metadata": {},
   "outputs": [
    {
     "name": "stdout",
     "output_type": "stream",
     "text": [
      "Difference of r2_score and cross vald score is : 2.804112101408107\n"
     ]
    }
   ],
   "source": [
    "score2=cross_val_score(knn,X,y)\n",
    "print('Difference of r2_score and cross vald score is :',(r2_score(y_test,y2)-score2.mean())*100)"
   ]
  },
  {
   "cell_type": "code",
   "execution_count": 87,
   "id": "b8294631",
   "metadata": {},
   "outputs": [
    {
     "name": "stdout",
     "output_type": "stream",
     "text": [
      "Difference of r2_score and cross vald score is : 3.9785805166264288\n"
     ]
    }
   ],
   "source": [
    "score3=cross_val_score(tree,X,y)\n",
    "print('Difference of r2_score and cross vald score is :',(r2_score(y_test,y3)-score3.mean())*100)"
   ]
  },
  {
   "cell_type": "code",
   "execution_count": 88,
   "id": "9a7ab1bc",
   "metadata": {},
   "outputs": [
    {
     "name": "stdout",
     "output_type": "stream",
     "text": [
      "Difference of r2_score and cross vald score is : 3.4398103595908114\n"
     ]
    }
   ],
   "source": [
    "score4=cross_val_score(bag,X,y)\n",
    "print('Difference of r2_score and cross vald score is :',(r2_score(y_test,y4)-score4.mean())*100)"
   ]
  },
  {
   "cell_type": "code",
   "execution_count": 89,
   "id": "d6305e25",
   "metadata": {},
   "outputs": [
    {
     "name": "stdout",
     "output_type": "stream",
     "text": [
      "Difference of r2_score and cross vald score is : 3.1530234270374713\n"
     ]
    }
   ],
   "source": [
    "score5=cross_val_score(rand,X,y)\n",
    "print('Difference of r2_score and cross vald score is :',(r2_score(y_test,y5)-score5.mean())*100)"
   ]
  },
  {
   "cell_type": "code",
   "execution_count": 90,
   "id": "4826a655",
   "metadata": {},
   "outputs": [
    {
     "name": "stdout",
     "output_type": "stream",
     "text": [
      "Difference of r2_score and cross vald score is : 2.6681659717116446\n"
     ]
    }
   ],
   "source": [
    "score6=cross_val_score(ada,X,y)\n",
    "print('Difference of r2_score and cross vald score is :',(r2_score(y_test,y6)-score6.mean())*100)"
   ]
  },
  {
   "cell_type": "code",
   "execution_count": 91,
   "id": "726cf1e1",
   "metadata": {},
   "outputs": [
    {
     "name": "stdout",
     "output_type": "stream",
     "text": [
      "Difference of r2_score and cross vald score is : 2.1790691760947833\n"
     ]
    }
   ],
   "source": [
    "score7=cross_val_score(grad,X,y)\n",
    "print('Difference of r2_score and cross vald score is :',(r2_score(y_test,y7)-score7.mean())*100)"
   ]
  },
  {
   "cell_type": "code",
   "execution_count": 92,
   "id": "19b862d5",
   "metadata": {},
   "outputs": [
    {
     "name": "stdout",
     "output_type": "stream",
     "text": [
      "Difference of r2_score and cross vald score is : -0.9708657075690754\n"
     ]
    }
   ],
   "source": [
    "score8=cross_val_score(svr,X,y)\n",
    "print('Difference of r2_score and cross vald score is :',(r2_score(y_test,y8)-score8.mean())*100)"
   ]
  },
  {
   "cell_type": "code",
   "execution_count": 93,
   "id": "08171da4",
   "metadata": {},
   "outputs": [
    {
     "name": "stdout",
     "output_type": "stream",
     "text": [
      "Difference of r2_score and cross vald score is : 4.2031552502335146\n"
     ]
    }
   ],
   "source": [
    "score9=cross_val_score(xgb,X,y)\n",
    "print('Difference of r2_score and cross vald score is :',(r2_score(y_test,y9)-score9.mean())*100)"
   ]
  },
  {
   "cell_type": "code",
   "execution_count": 94,
   "id": "431a2bbd",
   "metadata": {},
   "outputs": [
    {
     "name": "stdout",
     "output_type": "stream",
     "text": [
      "Difference of r2_score and cross vald score is : 2.0423870886329687\n"
     ]
    }
   ],
   "source": [
    "score10=cross_val_score(lasso,X,y)\n",
    "print('Difference of r2_score and cross vald score is :',(r2_score(y_test,y10)-score10.mean())*100)"
   ]
  },
  {
   "cell_type": "code",
   "execution_count": 95,
   "id": "71cf99e3",
   "metadata": {},
   "outputs": [
    {
     "name": "stdout",
     "output_type": "stream",
     "text": [
      "Difference of r2_score and cross vald score is : 2.0382824367348285\n"
     ]
    }
   ],
   "source": [
    "score11=cross_val_score(ridge,X,y)\n",
    "print('Difference of r2_score and cross vald score is :',(r2_score(y_test,y11)-score11.mean())*100)"
   ]
  },
  {
   "cell_type": "markdown",
   "id": "0fea2e80",
   "metadata": {},
   "source": [
    "# Observation \n",
    "based on our score of diffence between r2_score and crossvalscore,our ridge model is performing well.\n",
    "\n",
    "\n",
    "now lets use hyper parameter tuning"
   ]
  },
  {
   "cell_type": "code",
   "execution_count": 96,
   "id": "90a1392e",
   "metadata": {},
   "outputs": [],
   "source": [
    "from sklearn.model_selection import GridSearchCV"
   ]
  },
  {
   "cell_type": "code",
   "execution_count": 97,
   "id": "d5b45d8b",
   "metadata": {},
   "outputs": [
    {
     "data": {
      "text/plain": [
       "{'alpha': 4.5,\n",
       " 'fit_intercept': True,\n",
       " 'positive': True,\n",
       " 'random_state': 1,\n",
       " 'solver': 'auto'}"
      ]
     },
     "execution_count": 97,
     "metadata": {},
     "output_type": "execute_result"
    }
   ],
   "source": [
    "param={'alpha':[1,2,.5,.4,3,4,4.5],\n",
    "       'fit_intercept':[True,False],\n",
    "      'solver':['auto', 'svd', 'cholesky', 'lsqr', 'sparse_cg', 'sag', 'saga', 'lbfgs'],\n",
    "       'positive':[True,False],\n",
    "       'random_state':[1,5,10,20,30,40]\n",
    "      }\n",
    "gridsearch=GridSearchCV(estimator=ridge,param_grid=param,cv=5)\n",
    "gridsearch.fit(x_train,y_train)\n",
    "gridsearch.best_params_"
   ]
  },
  {
   "cell_type": "code",
   "execution_count": 98,
   "id": "91ebfc2d",
   "metadata": {},
   "outputs": [
    {
     "name": "stdout",
     "output_type": "stream",
     "text": [
      "R2 score is : 0.764987107184476\n",
      "Mean Absolute Error is : 4408.661036271055\n",
      "Mean Squared Error is : 37875567.04720918\n",
      "Root Mean Squared Error is : 6154.312881809729\n"
     ]
    }
   ],
   "source": [
    "best=gridsearch.best_estimator_\n",
    "best.fit(x_train,y_train)\n",
    "y12=best.predict(x_test)\n",
    "print('R2 score is :',r2_score(y_test,y12))\n",
    "print('Mean Absolute Error is :',mean_absolute_error(y_test,y12))\n",
    "print('Mean Squared Error is :',mean_squared_error(y_test,y12))\n",
    "print('Root Mean Squared Error is :',np.sqrt(mean_squared_error(y_test,y12)))"
   ]
  },
  {
   "cell_type": "code",
   "execution_count": 99,
   "id": "065e9c39",
   "metadata": {},
   "outputs": [
    {
     "name": "stdout",
     "output_type": "stream",
     "text": [
      "Difference of r2_score and cross vald score is : 1.8669845855568523\n"
     ]
    }
   ],
   "source": [
    "score12=cross_val_score(best,X,y)\n",
    "print('Difference of r2_score and cross vald score is :',(r2_score(y_test,y12)-score12.mean())*100)"
   ]
  },
  {
   "cell_type": "markdown",
   "id": "0df3cdbb",
   "metadata": {},
   "source": [
    "# Hence ridge model is our best model after hyper parameter tuning "
   ]
  },
  {
   "cell_type": "code",
   "execution_count": null,
   "id": "7e895695",
   "metadata": {},
   "outputs": [],
   "source": []
  }
 ],
 "metadata": {
  "kernelspec": {
   "display_name": "Python 3 (ipykernel)",
   "language": "python",
   "name": "python3"
  },
  "language_info": {
   "codemirror_mode": {
    "name": "ipython",
    "version": 3
   },
   "file_extension": ".py",
   "mimetype": "text/x-python",
   "name": "python",
   "nbconvert_exporter": "python",
   "pygments_lexer": "ipython3",
   "version": "3.9.13"
  }
 },
 "nbformat": 4,
 "nbformat_minor": 5
}
